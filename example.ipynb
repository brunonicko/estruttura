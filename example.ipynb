{
 "cells": [
  {
   "cell_type": "code",
   "execution_count": 9,
   "metadata": {},
   "outputs": [
    {
     "ename": "ImportError",
     "evalue": "cannot import name 'list_attribute' from 'estruttura' (/Users/bnicko/git/estruttura/estruttura/__init__.py)",
     "output_type": "error",
     "traceback": [
      "\u001b[0;31m---------------------------------------------------------------------------\u001b[0m",
      "\u001b[0;31mImportError\u001b[0m                               Traceback (most recent call last)",
      "Cell \u001b[0;32mIn [9], line 2\u001b[0m\n\u001b[1;32m      1\u001b[0m \u001b[39mfrom\u001b[39;00m \u001b[39mestruttura\u001b[39;00m\u001b[39m.\u001b[39;00m\u001b[39mexamples\u001b[39;00m \u001b[39mimport\u001b[39;00m ImmutableClass, ImmutableDict, ImmutableList, ImmutableSet\n\u001b[0;32m----> 2\u001b[0m \u001b[39mfrom\u001b[39;00m \u001b[39mestruttura\u001b[39;00m \u001b[39mimport\u001b[39;00m dict_attribute, list_attribute, set_attribute, attribute\n\u001b[1;32m      4\u001b[0m \u001b[39mclass\u001b[39;00m \u001b[39mData\u001b[39;00m(ImmutableClass):\n\u001b[1;32m      5\u001b[0m     x \u001b[39m=\u001b[39m attribute()\n",
      "\u001b[0;31mImportError\u001b[0m: cannot import name 'list_attribute' from 'estruttura' (/Users/bnicko/git/estruttura/estruttura/__init__.py)"
     ]
    }
   ],
   "source": [
    "from estruttura.examples import ImmutableClass, ImmutableDict, ImmutableList, ImmutableSet\n",
    "from estruttura import dict_attribute, list_attribute, set_attribute, attribute\n",
    "\n",
    "class Data(ImmutableClass):\n",
    "    x = attribute()\n",
    "    y = dict_attribute(dict_type=ImmutableDict)\n",
    "    z = list_attribute(list_type=ImmutableList)\n",
    "    a = set_attribute(set_type=ImmutableSet)\n",
    "\n",
    "data = Data(x=1, y={\"2\": 2}, z=[3], a={4,})\n",
    "print(data)"
   ]
  },
  {
   "cell_type": "code",
   "execution_count": null,
   "metadata": {},
   "outputs": [
    {
     "name": "stdout",
     "output_type": "stream",
     "text": [
      "Data('a', Data.__attrs__.y.namespace.ImmutableDict({'b': 'b'}), Data.__attrs__.z.namespace.ImmutableList(['c']))\n"
     ]
    }
   ],
   "source": [
    "data = data.update(x=\"a\", y={\"b\": \"b\"}, z=[\"c\"], a={\"d\",})\n",
    "print(data)"
   ]
  }
 ],
 "metadata": {
  "kernelspec": {
   "display_name": "Python 3.11.0 ('.venv': venv)",
   "language": "python",
   "name": "python3"
  },
  "language_info": {
   "codemirror_mode": {
    "name": "ipython",
    "version": 3
   },
   "file_extension": ".py",
   "mimetype": "text/x-python",
   "name": "python",
   "nbconvert_exporter": "python",
   "pygments_lexer": "ipython3",
   "version": "3.11.0"
  },
  "orig_nbformat": 4,
  "vscode": {
   "interpreter": {
    "hash": "6831717b26a1e92440818fed53f68b02db29c0ed7c07b1e172fb9669b7b6dedf"
   }
  }
 },
 "nbformat": 4,
 "nbformat_minor": 2
}
